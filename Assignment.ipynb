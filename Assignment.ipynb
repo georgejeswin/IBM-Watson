{
    "cells": [
        {
            "metadata": {
                "collapsed": true
            },
            "cell_type": "markdown",
            "source": "# My Jupyter Notebook on IBM Watson Studio"
        },
        {
            "metadata": {},
            "cell_type": "markdown",
            "source": "**Jeswin George**\n\nData Scientist"
        },
        {
            "metadata": {},
            "cell_type": "markdown",
            "source": "*I like to become a Data Scientist because I always wondered about the new world of Data*"
        },
        {
            "metadata": {},
            "cell_type": "markdown",
            "source": "### In the cell below we are doing a simple multiplication function "
        },
        {
            "metadata": {},
            "cell_type": "code",
            "source": "def mult(a,b):\n    return a*b\n\nmult(34,44)",
            "execution_count": 1,
            "outputs": [
                {
                    "output_type": "execute_result",
                    "execution_count": 1,
                    "data": {
                        "text/plain": "1496"
                    },
                    "metadata": {}
                }
            ]
        },
        {
            "metadata": {},
            "cell_type": "markdown",
            "source": "1. Python\n    1. Scikit learn\n    10. Pandas\n    6. Seaborn\n    \n    \n- HTML\n    * Flutter\n    * Bootstrap\n    \n    \n[Python Homepage](https://www.python.org/)"
        }
    ],
    "metadata": {
        "kernelspec": {
            "name": "python3",
            "display_name": "Python 3.6",
            "language": "python"
        },
        "language_info": {
            "name": "python",
            "version": "3.6.9",
            "mimetype": "text/x-python",
            "codemirror_mode": {
                "name": "ipython",
                "version": 3
            },
            "pygments_lexer": "ipython3",
            "nbconvert_exporter": "python",
            "file_extension": ".py"
        }
    },
    "nbformat": 4,
    "nbformat_minor": 1
}